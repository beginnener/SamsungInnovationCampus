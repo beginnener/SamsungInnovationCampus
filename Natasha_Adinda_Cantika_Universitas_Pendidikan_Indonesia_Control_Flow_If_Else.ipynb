{
  "nbformat": 4,
  "nbformat_minor": 0,
  "metadata": {
    "colab": {
      "provenance": [],
      "authorship_tag": "ABX9TyN8BiKxDauoOF8EDq3u38tT",
      "include_colab_link": true
    },
    "kernelspec": {
      "name": "python3",
      "display_name": "Python 3"
    },
    "language_info": {
      "name": "python"
    }
  },
  "cells": [
    {
      "cell_type": "markdown",
      "metadata": {
        "id": "view-in-github",
        "colab_type": "text"
      },
      "source": [
        "<a href=\"https://colab.research.google.com/github/beginnener/SamsungInnovationCampus/blob/main/Natasha_Adinda_Cantika_Universitas_Pendidikan_Indonesia_Control_Flow_If_Else.ipynb\" target=\"_parent\"><img src=\"https://colab.research.google.com/assets/colab-badge.svg\" alt=\"Open In Colab\"/></a>"
      ]
    },
    {
      "cell_type": "markdown",
      "source": [
        "## Pendahuluan\n",
        "\n",
        "rumus BMI berdasarkan WHO adalah\n",
        "<br> `berat badan / tinggi badan ^ 2`\n",
        "\n",
        "Menurut WHO berikut adalah nilai BMI dan tingkatannya:\n",
        "* < 18.5 → Underweight (Kurus)\n",
        "* 18.5 – 24.9 → Normal\n",
        "* 25.0 – 29.9 → Overweight (Berat Badan Berlebih)\n",
        "* ≥ 30.0 → Obesity (Obesitas)\n",
        "    * 30.0 - 34.9 → Obesitas tingkat 1\n",
        "    * 35.0 - 39.9 → Obesitas tingkat 2\n",
        "    * >= 40.0 → Obesitas tingkat 3"
      ],
      "metadata": {
        "id": "txbYMeHNPyld"
      }
    },
    {
      "cell_type": "code",
      "source": [
        "# minta input/masukan dari user\n",
        "tb = float(input(\"Masukkan tinggi badan (m): \"))\n",
        "bb = float(input(\"Masukkan berat badan (kg): \"))\n",
        "\n",
        "# buat rumus untuk menghitung BMI\n",
        "BMI = bb / (tb ** 2)\n",
        "\n",
        "# print hasil perhitungan BMI\n",
        "print(f\"BMI anda adalah: {BMI:.2f}\")\n",
        "\n",
        "if BMI < 18.5:                                                            # jika BMI < dari 18.5 maka masuk kategori underweight\n",
        "  print(\"Anda termasuk dalam kategori: Underweight (Kurus)\")\n",
        "elif BMI >= 18.5 and BMI <= 24.9:                                         # jika BMI berada diantara 18.5 dan 24.9 maka masuk kategori normal\n",
        "  print(\"Anda termasuk dalam kategori: Normal\")\n",
        "elif BMI >= 25.0 and BMI <= 29.9:                                         # jika BMI berada diantara 25.0 dan 29.9 maka masuk kategori overweight\n",
        "  print(\"Anda termasuk dalam kategori: Overweight (Berat Badan Berlebih)\")\n",
        "else:                                                                     # jika BMI berada diatas 29.9 maka masuk kategori obesity\n",
        "  if BMI >= 30.0 and BMI <= 34.9:\n",
        "    print(\"Anda termasuk dalam kategori: Obesity (Obesitas) tingkat 1\")\n",
        "  elif BMI >= 35.0 and BMI <= 39.9:\n",
        "    print(\"Anda termasuk dalam kategori: Obesity (Obesitas) tingkat 2\")\n",
        "  else:\n",
        "    print(\"Anda termasuk dalam kategori: Obesity (Obesitas) tingkat 3\")"
      ],
      "metadata": {
        "colab": {
          "base_uri": "https://localhost:8080/"
        },
        "id": "rz2kFDSDSM7u",
        "outputId": "65382fa7-dbc5-4595-e632-3c7397cf9cf5"
      },
      "execution_count": null,
      "outputs": [
        {
          "output_type": "stream",
          "name": "stdout",
          "text": [
            "Masukkan tinggi badan (m): 1.5\n",
            "Masukkan berat badan (kg): 100\n",
            "BMI anda adalah: 44.44\n",
            "Anda termasuk dalam kategori: Obesity (Obesitas) tingkat 3\n"
          ]
        }
      ]
    }
  ]
}