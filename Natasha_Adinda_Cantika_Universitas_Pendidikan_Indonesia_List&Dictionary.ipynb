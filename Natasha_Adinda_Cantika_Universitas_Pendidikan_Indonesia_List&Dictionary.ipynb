{
  "cells": [
    {
      "cell_type": "markdown",
      "metadata": {
        "id": "view-in-github",
        "colab_type": "text"
      },
      "source": [
        "<a href=\"https://colab.research.google.com/github/beginnener/SamsungInnovationCampus/blob/main/Natasha_Adinda_Cantika_Universitas_Pendidikan_Indonesia_List%26Dictionary.ipynb\" target=\"_parent\"><img src=\"https://colab.research.google.com/assets/colab-badge.svg\" alt=\"Open In Colab\"/></a>"
      ]
    },
    {
      "cell_type": "code",
      "execution_count": 19,
      "metadata": {
        "colab": {
          "base_uri": "https://localhost:8080/"
        },
        "id": "vF7DbMVip7h_",
        "outputId": "aa5b976f-cc82-49b4-dba2-e7f679f9ea5d"
      },
      "outputs": [
        {
          "output_type": "stream",
          "name": "stdout",
          "text": [
            "List siswa: ['Natasha', 'Cikal', 'Najwa', 'Ali', 'Nene']\n"
          ]
        }
      ],
      "source": [
        "# membuat list nama siswa\n",
        "siswa = [\"Natasha\", \"Cikal\", \"Najwa\", \"Ali\", \"Nene\"]\n",
        "print(f\"List siswa: {siswa}\")"
      ]
    },
    {
      "cell_type": "code",
      "execution_count": 20,
      "metadata": {
        "id": "6VR-oOCRqtpE"
      },
      "outputs": [],
      "source": [
        "# membuat dictionary (key = nama siswa, value = nilai ujian siswa)\n",
        "nilai_siswa = {\n",
        "    \"Natasha\":90,\n",
        "    \"Cikal\":90,\n",
        "    \"Najwa\":85,\n",
        "    \"Ali\":86,\n",
        "    \"Nene\":75\n",
        "}"
      ]
    },
    {
      "cell_type": "code",
      "execution_count": 21,
      "metadata": {
        "colab": {
          "base_uri": "https://localhost:8080/"
        },
        "id": "Zh9vBzM2rHCN",
        "outputId": "3f71069c-7ae0-4436-ac02-87c9e2e8d00f"
      },
      "outputs": [
        {
          "output_type": "stream",
          "name": "stdout",
          "text": [
            "List siswa updated: ['Natasha', 'Cikal', 'Najwa', 'Ali', 'Nene', 'Mingyu']\n",
            "List siswa updated: ['Natasha', 'Cikal', 'Najwa', 'Ali', 'Mingyu']\n"
          ]
        }
      ],
      "source": [
        "# append satu nama siswa baru ke list siswa\n",
        "siswa.append(\"Mingyu\")\n",
        "print(f\"List siswa updated: {siswa}\")\n",
        "\n",
        "siswa.remove(\"Nene\")\n",
        "print(f\"List siswa updated: {siswa}\")"
      ]
    },
    {
      "cell_type": "code",
      "execution_count": 22,
      "metadata": {
        "colab": {
          "base_uri": "https://localhost:8080/"
        },
        "id": "2C6GHVcCrW0j",
        "outputId": "5bd63459-5f4e-427f-85da-984731a5820d"
      },
      "outputs": [
        {
          "output_type": "stream",
          "name": "stdout",
          "text": [
            "Siswa pertama: Natasha\n",
            "Siswa terakhir: Mingyu\n",
            "Tiga siswa terakhir: ['Najwa', 'Ali', 'Mingyu']\n"
          ]
        }
      ],
      "source": [
        "# cetak nama siswa pertama dan terakhir dari list, lalu cetak 3 siswa terakhir menggunakan slicing\n",
        "\n",
        "print(f\"Siswa pertama: {siswa[0]}\") # index 0\n",
        "print(f\"Siswa terakhir: {siswa[4]}\") # index 4\n",
        "print(f\"Tiga siswa terakhir: {siswa[-3:]}\") # slicing 3 siswa terakhir"
      ]
    },
    {
      "cell_type": "code",
      "execution_count": 23,
      "metadata": {
        "colab": {
          "base_uri": "https://localhost:8080/"
        },
        "id": "jnC5KsiytIiD",
        "outputId": "4adfacd9-0b09-4ccd-84f0-c8aa5a0d808a"
      },
      "outputs": [
        {
          "output_type": "stream",
          "name": "stdout",
          "text": [
            "0,  Natasha\n",
            "1,  Cikal\n",
            "2,  Najwa\n",
            "3,  Ali\n",
            "4,  Mingyu\n"
          ]
        }
      ],
      "source": [
        "# gunakan suatu cara untuk print seluruh isi dari list siswa dengan format index, nama siswa\n",
        "i = 0\n",
        "while i < len(siswa) :\n",
        " print(f\"{i},  {siswa[i]}\")\n",
        " i += 1"
      ]
    },
    {
      "cell_type": "code",
      "source": [
        "# ubah nilai ujian salah satu siswa dari dictionary, lalu hapus salah satu data siswa dengan pop(), dan cetak dictionary hasil perubahan\n",
        "nilai_siswa[\"Najwa\"] = 96\n",
        "nilai_siswa.pop(\"Ali\")\n",
        "print(f\"Dictionary siswa updated: {nilai_siswa}\")"
      ],
      "metadata": {
        "colab": {
          "base_uri": "https://localhost:8080/"
        },
        "id": "8v5983FjwVQ1",
        "outputId": "fb8103e5-7e43-4ccd-f9a1-4e2c359984af"
      },
      "execution_count": 24,
      "outputs": [
        {
          "output_type": "stream",
          "name": "stdout",
          "text": [
            "Dictionary siswa updated: {'Natasha': 90, 'Cikal': 90, 'Najwa': 96, 'Nene': 75}\n"
          ]
        }
      ]
    },
    {
      "cell_type": "code",
      "source": [
        "# ganti key nama siswa dari dictionary\n",
        "nilai_siswa[\"Woozi\"] = nilai_siswa.pop(\"Natasha\")\n",
        "print(f\"Dictionary siswa updated: {nilai_siswa}\")"
      ],
      "metadata": {
        "colab": {
          "base_uri": "https://localhost:8080/"
        },
        "id": "RAqnbkCPwZxu",
        "outputId": "6f8f30a2-403d-4085-d059-26a831a6b171"
      },
      "execution_count": 25,
      "outputs": [
        {
          "output_type": "stream",
          "name": "stdout",
          "text": [
            "Dictionary siswa updated: {'Cikal': 90, 'Najwa': 96, 'Nene': 75, 'Woozi': 90}\n"
          ]
        }
      ]
    }
  ],
  "metadata": {
    "colab": {
      "provenance": [],
      "authorship_tag": "ABX9TyNpJ3AoFTV8MrbR3XljUWSE",
      "include_colab_link": true
    },
    "kernelspec": {
      "display_name": "Python 3",
      "name": "python3"
    },
    "language_info": {
      "name": "python"
    }
  },
  "nbformat": 4,
  "nbformat_minor": 0
}