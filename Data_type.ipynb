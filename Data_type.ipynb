{
  "nbformat": 4,
  "nbformat_minor": 0,
  "metadata": {
    "colab": {
      "provenance": [],
      "authorship_tag": "ABX9TyM7nGN77l4xLWo2ITFDGtde",
      "include_colab_link": true
    },
    "kernelspec": {
      "name": "python3",
      "display_name": "Python 3"
    },
    "language_info": {
      "name": "python"
    }
  },
  "cells": [
    {
      "cell_type": "markdown",
      "metadata": {
        "id": "view-in-github",
        "colab_type": "text"
      },
      "source": [
        "<a href=\"https://colab.research.google.com/github/beginnener/SamsungInnovationCampus/blob/main/Natasha_Adinda_Cantika_Universitas_Pendidikan_Indonesia.ipynb\" target=\"_parent\"><img src=\"https://colab.research.google.com/assets/colab-badge.svg\" alt=\"Open In Colab\"/></a>"
      ]
    },
    {
      "cell_type": "markdown",
      "source": [
        "Tugas 1: Menyimpan dan Menampilkan Data Buatlah variabel untuk menyimpan data-data berikut:\n",
        "\n",
        "Nama produk pertama: Kopi Pagi\n",
        "\n",
        "Harga produk pertama: 18000.5\n",
        "\n",
        "Nama produk kedua: Roti Cokelat\n",
        "\n",
        "Harga produk kedua: 10000\n",
        "\n",
        "Status ketersediaan roti: True (roti tersedia) Setelah itu, cetak semua variabel tersebut dengan pesan yang jelas. Contoh Output yang Diharapkan:\n",
        "\n",
        "Nama produk 1: Kopi Pagi\n",
        "\n",
        "Harga produk 1: 18000.5\n",
        "\n",
        "Nama produk 2: Roti Cokelat\n",
        "\n",
        "Harga produk 2: 10000\n",
        "\n",
        "Status ketersediaan roti: True"
      ],
      "metadata": {
        "id": "LkdITh89suFP"
      }
    },
    {
      "cell_type": "code",
      "execution_count": null,
      "metadata": {
        "colab": {
          "base_uri": "https://localhost:8080/"
        },
        "id": "U5Au3Q6Hsf4c",
        "outputId": "71a7671c-16f9-4ffe-cde8-b2d860fed409"
      },
      "outputs": [
        {
          "output_type": "stream",
          "name": "stdout",
          "text": [
            "Nama produk 1: Kopi Pagi\n",
            "Harga produk 1: 18000.5\n",
            "Nama produk 2: Roti Cokelat\n",
            "Harga produk 2: 18000.5\n",
            "Status ketersediaan roti: True\n"
          ]
        }
      ],
      "source": [
        "produk_1 = \"Kopi Pagi\"\n",
        "harga_produk_1 = 18000.5\n",
        "produk_2 = \"Roti Cokelat\"\n",
        "harga_produk_2 = 1000\n",
        "status_ketersediaan_roti = True\n",
        "\n",
        "# gunakan f-string print untuk efisiensi penulisan\n",
        "print(f\"Nama produk 1: {produk_1}\")\n",
        "print(f\"Harga produk 1: {harga_produk_1}\")\n",
        "print(f\"Nama produk 2: {produk_2}\")\n",
        "print(f\"Harga produk 2: {harga_produk_1}\")\n",
        "print(f\"Status ketersediaan roti: {status_ketersediaan_roti}\")"
      ]
    },
    {
      "cell_type": "markdown",
      "source": [
        "Tugas 2: Konversi Tipe Data dan Input Pengguna\n",
        "\n",
        "Manajer ingin Anda membuat program yang meminta input dari pengguna.\n",
        "\n",
        "Minta pengguna untuk memasukkan jumlah pesanan kopi. Simpan input tersebut dalam variabel jumlah_kopi_str.\n",
        "\n",
        "Minta pengguna untuk memasukkan jumlah pesanan roti. Simpan input tersebut dalam variabel jumlah_roti_str.\n",
        "\n",
        "Periksa tipe data dari kedua variabel tersebut. Konversi kedua variabel string menjadi integer (int). Simpan hasilnya di\n",
        "\n",
        "variabel baru: jumlah_kopi_int dan jumlah_roti_int.\n",
        "\n",
        "Cetak kembali tipe data setelah konversi untuk memastikan berhasil.\n",
        "\n",
        "Contoh Output yang Diharapkan:\n",
        "\n",
        "Masukkan jumlah pesanan kopi: 2\n",
        "\n",
        "Masukkan jumlah pesanan roti: 3\n",
        "\n",
        "Tipe data awal jumlah kopi: <class 'str'>\n",
        "\n",
        "Tipe data awal jumlah roti: <class 'str'>\n",
        "\n",
        "Tipe data setelah konversi: <class 'int'>"
      ],
      "metadata": {
        "id": "ceQkcDS3tdrt"
      }
    },
    {
      "cell_type": "code",
      "source": [
        "jumlah_kopi_str = input(\"Masukan jumlah pesanan kopi:\") # input() selalu menghasilkan string\n",
        "jumlah_roti_str = input(\"Masukan jumlah pesanan roti:\")\n",
        "\n",
        "print(\"Tipe data awal jumlah kopi: \", type(jumlah_kopi_str))\n",
        "print(\"Tipe data awal jumlah roti: \", type(jumlah_roti_str))\n",
        "\n",
        "jumlah_kopi_int = int(jumlah_kopi_str)\n",
        "jumlah_roti_int = int(jumlah_roti_str)\n",
        "\n",
        "print(\"Tipe data setelah konversi: \", type(jumlah_kopi_int))\n",
        "print(\"Tipe data setelah konversi: \", type(jumlah_roti_int))"
      ],
      "metadata": {
        "colab": {
          "base_uri": "https://localhost:8080/"
        },
        "id": "NCFf4A0-tchN",
        "outputId": "c04f6f94-337c-42ad-8e7e-d546c7358118"
      },
      "execution_count": null,
      "outputs": [
        {
          "output_type": "stream",
          "name": "stdout",
          "text": [
            "Masukan jumlah pesanan kopi:2\n",
            "Masukan jumlah pesanan roti:3\n",
            "Tipe data awal jumlah kopi:  <class 'str'>\n",
            "Tipe data awal jumlah roti:  <class 'str'>\n",
            "Tipe data setelah konversi:  <class 'int'>\n",
            "Tipe data setelah konversi:  <class 'int'>\n"
          ]
        }
      ]
    },
    {
      "cell_type": "markdown",
      "source": [
        "Tugas 3: Operasi pada Angka\n",
        "\n",
        "Setelah mengonversi data, hitung total harga pesanan. Hitung total harga untuk kopi. Gunakan variabel harga_kopi dari Tugas 1 dan jumlah_kopi_int dari Tugas 2.\n",
        "\n",
        "Hitung total harga untuk roti. Gunakan variabel harga_roti dari Tugas 1 dan jumlah_roti_int dari Tugas 2.\n",
        "\n",
        "Hitung total harga keseluruhan pesanan. Simpan hasilnya di variabel total_belanja.\n",
        "\n",
        "Cetak total belanja tersebut.\n",
        "\n",
        "Tambahkan satu variabel lagi, uang_bayar = 50000. Hitung kembalian dengan menggunakan operator pengurangan.\n",
        "\n",
        "Contoh Output yang Diharapkan:\n",
        "\n",
        "Total harga kopi: 36001.0\n",
        "\n",
        "Total harga roti: 30000\n",
        "\n",
        "Total belanja keseluruhan: 66001.0\n",
        "\n",
        "Uang yang dibayarkan: 50000\n",
        "\n",
        "Kembalian: -16001.0\n"
      ],
      "metadata": {
        "id": "XUFZleF2uhAG"
      }
    },
    {
      "cell_type": "code",
      "source": [
        "total_harga_pesanan_kopi = harga_produk_1 * jumlah_kopi_int\n",
        "total_harga_pesanan_roti = harga_produk_2 * jumlah_roti_int\n",
        "total_belanja = total_harga_pesanan_kopi + total_harga_pesanan_roti\n",
        "\n",
        "uang_bayar = 50000\n",
        "\n",
        "print(f\"Total harga kopi: {total_harga_pesanan_kopi}\")\n",
        "print(f\"Total harga roti: {total_harga_pesanan_roti}\")\n",
        "print(f\"Total belanja keseluruhan:  {total_belanja}\")\n",
        "print(f\"Uang yang dibayarkan: {uang_bayar}\")\n",
        "print(f\"Kembalian: {uang_bayar - total_belanja}\")"
      ],
      "metadata": {
        "colab": {
          "base_uri": "https://localhost:8080/"
        },
        "id": "ncppndypuvQC",
        "outputId": "ae734b46-9489-48e2-c1b0-399489fd4a2e"
      },
      "execution_count": null,
      "outputs": [
        {
          "output_type": "stream",
          "name": "stdout",
          "text": [
            "Total harga kopi: 36001.0\n",
            "Total harga roti: 3000\n",
            "Total belanja keseluruhan:  39001.0\n",
            "Uang yang dibayarkan: 50000\n",
            "Kembalian: 10999.0\n"
          ]
        }
      ]
    },
    {
      "cell_type": "markdown",
      "source": [
        "Tugas 4: Operasi pada String\n",
        "\n",
        "Buatlah struk sederhana menggunakan operasi string.\n",
        "\n",
        "Buat variabel nama_pelanggan dan isi dengan input dari pengguna.\n",
        "\n",
        "Gabungkan teks \"Terima kasih, \" dengan nama_pelanggan dan teks \" sudah berbelanja di Coffee Shop Bahagia!\" menggunakan operator +. Simpan dalam variabel pesan_terima_kasih.\n",
        "\n",
        "Cetak pesan_terima_kasih.\n",
        "\n",
        "Buatlah garis pemisah dengan mengulang karakter * sebanyak 25 kali. Cetak garis tersebut di atas dan di bawah pesan.\n",
        "\n",
        "Cetak pesan menggunakan f-string yang berisi nama produk kopi dan total harganya. Contoh: \"Total harga Kopi Pagi adalah Rp36001.0\".\n",
        "\n",
        "Contoh Output yang Diharapkan:\n",
        "\n",
        "*************************\n",
        "\n",
        "Terima kasih, [Nama Pelanggan] sudah berbelanja di Coffee Shop Bahagia!\n",
        "\n",
        "*************************\n",
        "\n",
        "Total harga Kopi Pagi adalah Rp36001.0"
      ],
      "metadata": {
        "id": "t8jePSLHwV5W"
      }
    },
    {
      "cell_type": "code",
      "source": [
        "nama_pelanggan = input(\"Masukkan nama anda: \")\n",
        "\n",
        "pesan_terima_kasih = \"Terima kasih \" + nama_pelanggan + \" sudah berbelanja di Coffe Shop Bahagia!\"\n",
        "garis = \"*\" * 25\n",
        "\n",
        "print(garis)\n",
        "print(\"\\n\", pesan_terima_kasih, \"\\n\")\n",
        "print(garis)\n",
        "print(f\"Total harga {produk_1} adalah Rp{total_harga_pesanan_kopi}\")"
      ],
      "metadata": {
        "colab": {
          "base_uri": "https://localhost:8080/"
        },
        "id": "nAiso0bcwbjX",
        "outputId": "688639b8-0364-49ad-d6ae-586f8b123d5d"
      },
      "execution_count": null,
      "outputs": [
        {
          "output_type": "stream",
          "name": "stdout",
          "text": [
            "Masukkan nama anda: nene\n",
            "*************************\n",
            "\n",
            " Terima kasih nene sudah berbelanja di Coffe Shop Bahagia! \n",
            "\n",
            "*************************\n",
            "Total harga Kopi Pagi adalah Rp36001.0\n"
          ]
        }
      ]
    }
  ]
}
